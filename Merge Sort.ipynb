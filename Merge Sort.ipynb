{
 "cells": [
  {
   "cell_type": "code",
   "execution_count": 41,
   "metadata": {},
   "outputs": [
    {
     "name": "stdout",
     "output_type": "stream",
     "text": [
      "merging: [26, 93]\n",
      "merging: [26, 54, 93]\n",
      "merging: [17, 17]\n",
      "merging: [31, 77]\n",
      "merging: [17, 17, 31, 77]\n",
      "merging: [17, 17, 26, 31, 54, 77, 93]\n",
      "merging: [20, 55]\n",
      "merging: [20, 44, 55]\n",
      "merging: [19, 100]\n",
      "merging: [2, 254]\n",
      "merging: [2, 19, 100, 254]\n",
      "merging: [2, 19, 20, 44, 55, 100, 254]\n",
      "merging: [2, 17, 17, 19, 20, 26, 31, 44, 54, 55, 77, 93, 100, 254]\n"
     ]
    }
   ],
   "source": [
    "# import numpy as np\n",
    "# firstArray = np.random.randint(1,200,4)\n",
    "firstArray = [54,26,93,17,17,77,31,44,55,20,19,100,254,2]\n",
    "def mergeSort(array1):\n",
    "    \n",
    "#     print('splitting:', array1)\n",
    "    if(len(array1) > 1):\n",
    "        a = array1[:(len(array1) // 2)]\n",
    "        b = array1[(len(array1) // 2):]\n",
    "        mergeSort(a)\n",
    "        mergeSort(b)\n",
    "        countA = 0\n",
    "        countB = 0\n",
    "        countC = 0\n",
    "        while countA < len(a) and countB < len(b):\n",
    "            if a[countA] < b[countB]:\n",
    "                array1[countC] = a[countA]\n",
    "                countA = countA+1\n",
    "            else: \n",
    "                array1[countC] = b[countB]\n",
    "                countB = countB+1\n",
    "            countC = countC+1\n",
    "                \n",
    "        while countA < len(a):\n",
    "            array1[countC]=a[countA]\n",
    "            countA = countA +1\n",
    "            countC = countC+1\n",
    "            \n",
    "        while countB < len(b):\n",
    "            array1[countC]=b[countB]\n",
    "            countB = countB +1\n",
    "            countC = countC+1\n",
    "            \n",
    "        print('merging:', array1)\n",
    "mergeSort(firstArray)"
   ]
  },
  {
   "cell_type": "code",
   "execution_count": null,
   "metadata": {},
   "outputs": [],
   "source": []
  }
 ],
 "metadata": {
  "kernelspec": {
   "display_name": "Python 3",
   "language": "python",
   "name": "python3"
  },
  "language_info": {
   "codemirror_mode": {
    "name": "ipython",
    "version": 3
   },
   "file_extension": ".py",
   "mimetype": "text/x-python",
   "name": "python",
   "nbconvert_exporter": "python",
   "pygments_lexer": "ipython3",
   "version": "3.7.3"
  }
 },
 "nbformat": 4,
 "nbformat_minor": 2
}
